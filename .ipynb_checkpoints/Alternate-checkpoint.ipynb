{
 "cells": [
  {
   "cell_type": "markdown",
   "id": "e15adaf4",
   "metadata": {},
   "source": [
    "# Web Scrape Some Data"
   ]
  },
  {
   "cell_type": "code",
   "execution_count": 1,
   "id": "859df5bf",
   "metadata": {},
   "outputs": [],
   "source": [
    "import numpy as np\n",
    "import pandas as pd\n",
    "#//*[@id=\"mw-content-text\"]/div[1]/table/tbody/tr[12]"
   ]
  },
  {
   "cell_type": "code",
   "execution_count": 3,
   "id": "0f83f397",
   "metadata": {},
   "outputs": [],
   "source": [
    "pd.set_option('display.max_colwidth', None)\n",
    "df = pd.read_csv(\"./Data/Wikiships.txt\", sep=\"\\t\",header=0, names=[\"Name\",\"Link\"],dtype={'Name':str,'link':str})"
   ]
  },
  {
   "cell_type": "code",
   "execution_count": 4,
   "id": "ba31e94d",
   "metadata": {},
   "outputs": [
    {
     "name": "stdout",
     "output_type": "stream",
     "text": [
      "                   Name                                              Link\n",
      "0       USS A. Houghton     https://en.wikipedia.org/wiki/USS_A._Houghton\n",
      "1        USS A. J. View      https://en.wikipedia.org/wiki/USS_A._J._View\n",
      "2    USS Aaron V. Brown  https://en.wikipedia.org/wiki/USS_Aaron_V._Brown\n",
      "3            USS Abeona          https://en.wikipedia.org/wiki/USS_Abeona\n",
      "4           USS Abraham         https://en.wikipedia.org/wiki/USS_Abraham\n",
      "..                  ...                                               ...\n",
      "750   USS Young America   https://en.wikipedia.org/wiki/USS_Young_America\n",
      "751     USS Young Rover     https://en.wikipedia.org/wiki/USS_Young_Rover\n",
      "752    USS Yucca (1864)    https://en.wikipedia.org/wiki/USS_Yucca_(1864)\n",
      "753            USS Zeta            https://en.wikipedia.org/wiki/USS_Zeta\n",
      "754          USS Zouave          https://en.wikipedia.org/wiki/USS_Zouave\n",
      "\n",
      "[755 rows x 2 columns]\n"
     ]
    }
   ],
   "source": [
    "print(df)"
   ]
  },
  {
   "cell_type": "code",
   "execution_count": 54,
   "id": "ed3dc987",
   "metadata": {},
   "outputs": [
    {
     "name": "stdout",
     "output_type": "stream",
     "text": [
      "[<Element tr at 0x16574b58130>]\n",
      "['\\n', 'Name', 'USS ', 'Launched', '1852', 'Acquired', '12 October 1861', 'Commissioned', '19 February 1862', 'Decommissioned', '9 June 1865', 'Fate', 'Sold, 10 August 1865', 'Type', 'Tonnage', '326', 'Length', '113\\xa0ft 4\\xa0in (34.54\\xa0m)', 'Beam', '25\\xa0ft 3\\xa0in (7.70\\xa0m)', 'Depth of hold', '12\\xa0ft (3.7\\xa0m)', 'Propulsion', 'Sail', 'Speed', '13\\xa0', ' (15\\xa0mph; 24\\xa0km/h)', 'Complement', '27', 'Armament', '2 × 32-pounder smoothbore guns']\n",
      "[<Element tr at 0x16574b5f4a0>]\n"
     ]
    }
   ],
   "source": [
    "URL = \"https://en.wikipedia.org/wiki/USS_A._Houghton\"\n",
    "#//*[@id=\"mw-content-text\"]/div[1]/table/tbody/tr[12]/td[1]\n",
    "import requests\n",
    "from bs4 import BeautifulSoup\n",
    "from lxml import html\n",
    "page = requests.get(URL)\n"
   ]
  },
  {
   "cell_type": "code",
   "execution_count": 104,
   "id": "29280613",
   "metadata": {},
   "outputs": [
    {
     "ename": "XPathEvalError",
     "evalue": "Unregistered function",
     "output_type": "error",
     "traceback": [
      "\u001b[1;31m---------------------------------------------------------------------------\u001b[0m",
      "\u001b[1;31mXPathEvalError\u001b[0m                            Traceback (most recent call last)",
      "\u001b[1;32m~\\AppData\\Local\\Temp/ipykernel_16524/583751660.py\u001b[0m in \u001b[0;36m<module>\u001b[1;34m\u001b[0m\n\u001b[0;32m      1\u001b[0m \u001b[0mtree\u001b[0m\u001b[1;33m=\u001b[0m\u001b[0mhtml\u001b[0m\u001b[1;33m.\u001b[0m\u001b[0mfromstring\u001b[0m\u001b[1;33m(\u001b[0m\u001b[0mpage\u001b[0m\u001b[1;33m.\u001b[0m\u001b[0mcontent\u001b[0m\u001b[1;33m)\u001b[0m\u001b[1;33m\u001b[0m\u001b[1;33m\u001b[0m\u001b[0m\n\u001b[1;32m----> 2\u001b[1;33m \u001b[0mx1\u001b[0m \u001b[1;33m=\u001b[0m \u001b[0mtree\u001b[0m\u001b[1;33m.\u001b[0m\u001b[0mxpath\u001b[0m\u001b[1;33m(\u001b[0m\u001b[1;34m'//table[@class=\"infobox\"]/tbody/tr/td[contains(lower-case(text()),\"ton\") or contains(text(),\"disp\")]/following-sibling::td/text()'\u001b[0m\u001b[1;33m)\u001b[0m\u001b[1;33m\u001b[0m\u001b[1;33m\u001b[0m\u001b[0m\n\u001b[0m\u001b[0;32m      3\u001b[0m \u001b[0mprint\u001b[0m\u001b[1;33m(\u001b[0m\u001b[0mx1\u001b[0m\u001b[1;33m)\u001b[0m\u001b[1;33m\u001b[0m\u001b[1;33m\u001b[0m\u001b[0m\n",
      "\u001b[1;32msrc/lxml/etree.pyx\u001b[0m in \u001b[0;36mlxml.etree._Element.xpath\u001b[1;34m()\u001b[0m\n",
      "\u001b[1;32msrc/lxml/xpath.pxi\u001b[0m in \u001b[0;36mlxml.etree.XPathElementEvaluator.__call__\u001b[1;34m()\u001b[0m\n",
      "\u001b[1;32msrc/lxml/xpath.pxi\u001b[0m in \u001b[0;36mlxml.etree._XPathEvaluatorBase._handle_result\u001b[1;34m()\u001b[0m\n",
      "\u001b[1;31mXPathEvalError\u001b[0m: Unregistered function"
     ]
    }
   ],
   "source": [
    "tree=html.fromstring(page.content)\n",
    "x1 = tree.xpath('//table[@class=\"infobox\"]/tbody/tr/td[contains(text(),\"ton\") or contains(text(),\"isp\")]/following-sibling::td/text()')\n",
    "print(x1)\n"
   ]
  },
  {
   "cell_type": "code",
   "execution_count": 124,
   "id": "3f22b64f",
   "metadata": {
    "scrolled": true
   },
   "outputs": [],
   "source": [
    "zzz = df.set_index(\"Name\")\n",
    "temp= pd.DataFrame({\"name\":[],\"description\":[],\"tonnage\":[]})\n",
    "for index, row in df.iterrows():\n",
    "    page = requests.get(row[1])\n",
    "    tree=html.fromstring(page.content)\n",
    "    x2 = tree.xpath('//div[contains(@class,\"shortdescription\")]/text()')\n",
    "    x2 = \"Mark\" if x2==[] else x2\n",
    "    x1 = tree.xpath('//table[@class=\"infobox\"]/tbody/tr/td[contains(text(),\"Ton\") or contains(text(),\"ton\") or contains(text(),\"isp\")]/following-sibling::td/text()')\n",
    "    temp = temp.append(pd.DataFrame({\"name\":row[0],\"description\":x2[0], \"tonnage\":x1}))"
   ]
  },
  {
   "cell_type": "code",
   "execution_count": 123,
   "id": "0de22126",
   "metadata": {},
   "outputs": [
    {
     "name": "stdout",
     "output_type": "stream",
     "text": [
      "                    name  \\\n",
      "0        USS A. Houghton   \n",
      "0     USS Aaron V. Brown   \n",
      "0             USS Abeona   \n",
      "1             USS Abeona   \n",
      "0            USS Abraham   \n",
      "1            USS Abraham   \n",
      "0             USS Acacia   \n",
      "0              USS Adela   \n",
      "0           USS Adelaide   \n",
      "1           USS Adelaide   \n",
      "0  USS Adirondack (1862)   \n",
      "0       USS Adolph Hugel   \n",
      "1       USS Adolph Hugel   \n",
      "0     USS Advance (1862)   \n",
      "0        USS Agamenticus   \n",
      "1        USS Agamenticus   \n",
      "2        USS Agamenticus   \n",
      "0      USS Agawam (1863)   \n",
      "0     USS Alabama (1850)   \n",
      "1     USS Alabama (1850)   \n",
      "0   USS Albatross (1858)   \n",
      "1   USS Albatross (1858)   \n",
      "0   USS Albemarle (1863)   \n",
      "0       USS Alert (1861)   \n",
      "0  USS Alexandria (1862)   \n",
      "0        USS Alfred Robb   \n",
      "0   USS Allegheny (1847)   \n",
      "0   USS Alligator (1862)   \n",
      "0       USS Alonzo Child   \n",
      "1       USS Alonzo Child   \n",
      "0       USS Alpha (1864)   \n",
      "0      USS Althea (1863)   \n",
      "0             USS Amanda   \n",
      "0         USS Amaranthus   \n",
      "0             USS Amazon   \n",
      "0    USS American (1861)   \n",
      "0  USS Ammonoosuc (1864)   \n",
      "0   USS Anacostia (1856)   \n",
      "0     USS Anemone (1864)   \n",
      "0              USS Annie   \n",
      "0    USS Antelope (1861)   \n",
      "0    USS Antietam (1869)   \n",
      "0      USS Antona (1863)   \n",
      "\n",
      "                                                              description  \\\n",
      "0                                    Cargo ship of the United States Navy   \n",
      "0                                       Gunboat of the United States Navy   \n",
      "0                                       Gunboat of the United States Navy   \n",
      "1                                       Gunboat of the United States Navy   \n",
      "0                                                      Side-wheel steamer   \n",
      "1                                                      Side-wheel steamer   \n",
      "0                                       Tugboat of the United States Navy   \n",
      "0                                       Gunboat of the United States Navy   \n",
      "0                                                                       M   \n",
      "1                                                                       M   \n",
      "0         Gunboat during the American Civil War that sank off the Bahamas   \n",
      "0                                       Gunboat of the United States Navy   \n",
      "1                                       Gunboat of the United States Navy   \n",
      "0                                       Gunboat of the United States Navy   \n",
      "0                                           United States Navy ship, 1863   \n",
      "1                                           United States Navy ship, 1863   \n",
      "2                                           United States Navy ship, 1863   \n",
      "0              Double-ended, side-wheel gunboat of the United States Navy   \n",
      "0                                       Gunboat of the United States Navy   \n",
      "1                                       Gunboat of the United States Navy   \n",
      "0                                       Gunboat of the United States Navy   \n",
      "1                                       Gunboat of the United States Navy   \n",
      "0  Screw steamer captured by the Union Navy during the American Civil War   \n",
      "0                                       Gunboat of the United States Navy   \n",
      "0                                       Gunboat of the United States Navy   \n",
      "0                                       Gunboat of the United States Navy   \n",
      "0                                       Gunboat of the United States Navy   \n",
      "0                                          Submarine of the United States   \n",
      "0                                                                       M   \n",
      "1                                                                       M   \n",
      "0                                       Tugboat of the United States Navy   \n",
      "0                                       Tugboat of the United States Navy   \n",
      "0                                       Gunboat of the United States Navy   \n",
      "0                                       Tugboat of the United States Navy   \n",
      "0                                                                       M   \n",
      "0                                                                       M   \n",
      "0                                                                       M   \n",
      "0                                       Gunboat of the United States Navy   \n",
      "0                                       Gunboat of the United States Navy   \n",
      "0                                       Gunboat of the United States Navy   \n",
      "0                                       Gunboat of the United States Navy   \n",
      "0                                    Cargo ship of the United States Navy   \n",
      "0                                       Gunboat of the United States Navy   \n",
      "\n",
      "                                tonnage  \n",
      "0                                   326  \n",
      "0                               50 tons  \n",
      "0                                  206   \n",
      "1                               (209 t)  \n",
      "0                                  800   \n",
      "1                               (810 t)  \n",
      "0                 300 long tons (300 t)  \n",
      "0                              585 tons  \n",
      "0                                  734   \n",
      "1                               (746 t)  \n",
      "0             1,240 long tons (1,260 t)  \n",
      "0                                  269   \n",
      "1                               (273 t)  \n",
      "0                              880 tons  \n",
      "0                                3,295   \n",
      "1                               (3,348   \n",
      "2                                     )  \n",
      "0                                   974  \n",
      "0                                1,261   \n",
      "1                             (1,281 t)  \n",
      "0                                  378   \n",
      "1                               (384 t)  \n",
      "0                              200 tons  \n",
      "0                   90 long tons (91 t)  \n",
      "0                               60 tons  \n",
      "0                   86 long tons (87 t)  \n",
      "0               989 long tons (1,005 t)  \n",
      "0  275 tons surface, 350 tons submerged  \n",
      "0                                  493   \n",
      "1                               (501 t)  \n",
      "0                               55 tons  \n",
      "0                               72 tons  \n",
      "0                                   368  \n",
      "0                              182 tons  \n",
      "0                                   318  \n",
      "0                              329 tons  \n",
      "0                            3,850 tons  \n",
      "0                              217 tons  \n",
      "0                              156 tons  \n",
      "0                               27 tons  \n",
      "0                              145 tons  \n",
      "0                            3,953 tons  \n",
      "0                              549 tons  \n"
     ]
    }
   ],
   "source": [
    "print(temp)"
   ]
  },
  {
   "cell_type": "code",
   "execution_count": 125,
   "id": "6af06354",
   "metadata": {},
   "outputs": [
    {
     "data": {
      "text/html": [
       "<div>\n",
       "<style scoped>\n",
       "    .dataframe tbody tr th:only-of-type {\n",
       "        vertical-align: middle;\n",
       "    }\n",
       "\n",
       "    .dataframe tbody tr th {\n",
       "        vertical-align: top;\n",
       "    }\n",
       "\n",
       "    .dataframe thead th {\n",
       "        text-align: right;\n",
       "    }\n",
       "</style>\n",
       "<table border=\"1\" class=\"dataframe\">\n",
       "  <thead>\n",
       "    <tr style=\"text-align: right;\">\n",
       "      <th></th>\n",
       "      <th>name</th>\n",
       "      <th>description</th>\n",
       "      <th>tonnage</th>\n",
       "    </tr>\n",
       "  </thead>\n",
       "  <tbody>\n",
       "    <tr>\n",
       "      <th>0</th>\n",
       "      <td>USS A. Houghton</td>\n",
       "      <td>Cargo ship of the United States Navy</td>\n",
       "      <td>326</td>\n",
       "    </tr>\n",
       "    <tr>\n",
       "      <th>0</th>\n",
       "      <td>USS Aaron V. Brown</td>\n",
       "      <td>Gunboat of the United States Navy</td>\n",
       "      <td>50 tons</td>\n",
       "    </tr>\n",
       "    <tr>\n",
       "      <th>0</th>\n",
       "      <td>USS Abeona</td>\n",
       "      <td>Gunboat of the United States Navy</td>\n",
       "      <td>206</td>\n",
       "    </tr>\n",
       "    <tr>\n",
       "      <th>1</th>\n",
       "      <td>USS Abeona</td>\n",
       "      <td>Gunboat of the United States Navy</td>\n",
       "      <td>(209 t)</td>\n",
       "    </tr>\n",
       "    <tr>\n",
       "      <th>0</th>\n",
       "      <td>USS Abraham</td>\n",
       "      <td>Side-wheel steamer</td>\n",
       "      <td>800</td>\n",
       "    </tr>\n",
       "  </tbody>\n",
       "</table>\n",
       "</div>"
      ],
      "text/plain": [
       "                 name                           description   tonnage\n",
       "0     USS A. Houghton  Cargo ship of the United States Navy       326\n",
       "0  USS Aaron V. Brown     Gunboat of the United States Navy   50 tons\n",
       "0          USS Abeona     Gunboat of the United States Navy      206 \n",
       "1          USS Abeona     Gunboat of the United States Navy   (209 t)\n",
       "0         USS Abraham                    Side-wheel steamer      800 "
      ]
     },
     "execution_count": 125,
     "metadata": {},
     "output_type": "execute_result"
    }
   ],
   "source": [
    "temp.head()"
   ]
  },
  {
   "cell_type": "code",
   "execution_count": 126,
   "id": "1b0900ff",
   "metadata": {},
   "outputs": [],
   "source": [
    "temp.to_csv(\"wikitemp2.csv\")"
   ]
  }
 ],
 "metadata": {
  "kernelspec": {
   "display_name": "Python 3 (ipykernel)",
   "language": "python",
   "name": "python3"
  },
  "language_info": {
   "codemirror_mode": {
    "name": "ipython",
    "version": 3
   },
   "file_extension": ".py",
   "mimetype": "text/x-python",
   "name": "python",
   "nbconvert_exporter": "python",
   "pygments_lexer": "ipython3",
   "version": "3.9.7"
  },
  "toc": {
   "base_numbering": 1,
   "nav_menu": {},
   "number_sections": true,
   "sideBar": true,
   "skip_h1_title": false,
   "title_cell": "Table of Contents",
   "title_sidebar": "Contents",
   "toc_cell": false,
   "toc_position": {},
   "toc_section_display": true,
   "toc_window_display": false
  }
 },
 "nbformat": 4,
 "nbformat_minor": 5
}
