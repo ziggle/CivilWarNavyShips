{
 "cells": [
  {
   "cell_type": "markdown",
   "id": "e15adaf4",
   "metadata": {},
   "source": [
    "# Web Scrape Some Data"
   ]
  },
  {
   "cell_type": "code",
   "execution_count": 1,
   "id": "859df5bf",
   "metadata": {},
   "outputs": [],
   "source": [
    "import numpy as np\n",
    "import pandas as pd\n",
    "#//*[@id=\"mw-content-text\"]/div[1]/table/tbody/tr[12]"
   ]
  },
  {
   "cell_type": "code",
   "execution_count": 12,
   "id": "0f83f397",
   "metadata": {},
   "outputs": [],
   "source": [
    "pd.set_option('display.max_colwidth', None)\n",
    "df = pd.read_csv(\"./Data/Wikiships.txt\", sep=\"\\t\",header=0, names=[\"Name\",\"Link\"],dtype={'Name':str,'link':str})"
   ]
  },
  {
   "cell_type": "code",
   "execution_count": 13,
   "id": "ba31e94d",
   "metadata": {},
   "outputs": [
    {
     "name": "stdout",
     "output_type": "stream",
     "text": [
      "                   Name                                              Link\n",
      "0       USS A. Houghton     https://en.wikipedia.org/wiki/USS_A._Houghton\n",
      "1        USS A. J. View      https://en.wikipedia.org/wiki/USS_A._J._View\n",
      "2    USS Aaron V. Brown  https://en.wikipedia.org/wiki/USS_Aaron_V._Brown\n",
      "3            USS Abeona          https://en.wikipedia.org/wiki/USS_Abeona\n",
      "4           USS Abraham         https://en.wikipedia.org/wiki/USS_Abraham\n",
      "..                  ...                                               ...\n",
      "750   USS Young America   https://en.wikipedia.org/wiki/USS_Young_America\n",
      "751     USS Young Rover     https://en.wikipedia.org/wiki/USS_Young_Rover\n",
      "752    USS Yucca (1864)    https://en.wikipedia.org/wiki/USS_Yucca_(1864)\n",
      "753            USS Zeta            https://en.wikipedia.org/wiki/USS_Zeta\n",
      "754          USS Zouave          https://en.wikipedia.org/wiki/USS_Zouave\n",
      "\n",
      "[755 rows x 2 columns]\n"
     ]
    }
   ],
   "source": [
    "print(df)"
   ]
  },
  {
   "cell_type": "code",
   "execution_count": 62,
   "id": "3f22b64f",
   "metadata": {
    "scrolled": false
   },
   "outputs": [],
   "source": [
    "\n",
    "temp= pd.DataFrame({\"ix\":[],\"name\":[],\"description\":[],\"propulsion\":[]})\n",
    "for index, row in df.iterrows():\n",
    "    \n",
    "    page = requests.get(row[1])\n",
    "    tree=html.fromstring(page.content)\n",
    "    x2 = tree.xpath('//div[contains(@class,\"shortdescription\")]/text()')\n",
    "    x2 = \"Mark\" if x2==[] else x2\n",
    "    #x1 = tree.xpath('//table[@class=\"infobox\"]/tbody/tr/td[contains(text(),\"propulsion\") \\\n",
    "    #                or contains(text(),\"Propulsion\")] \\\n",
    "    #                /following-sibling::td[1]/text()')\n",
    "    x1 = tree.xpath('//table[@class=\"infobox\"]/tbody/tr/td[contains(text(),\"propulsion\") \\\n",
    "                     or contains(text(),\"Propulsion\")]//following-sibling::td[1]//*/text()')\n",
    "    df1=pd.DataFrame({\"name\":[row[0]],\"description\":[x2[0]], \"propulsion\":[x1]})\n",
    "    temp = temp.append(df1)"
   ]
  },
  {
   "cell_type": "code",
   "execution_count": 56,
   "id": "90472693",
   "metadata": {},
   "outputs": [
    {
     "name": "stdout",
     "output_type": "stream",
     "text": [
      "   ix                   name  \\\n",
      "0 NaN        USS A. Houghton   \n",
      "0 NaN         USS A. J. View   \n",
      "0 NaN     USS Aaron V. Brown   \n",
      "0 NaN             USS Abeona   \n",
      "0 NaN            USS Abraham   \n",
      "0 NaN             USS Acacia   \n",
      "0 NaN              USS Adela   \n",
      "0 NaN           USS Adelaide   \n",
      "0 NaN  USS Adirondack (1862)   \n",
      "0 NaN       USS Adolph Hugel   \n",
      "0 NaN     USS Advance (1862)   \n",
      "0 NaN        USS Agamenticus   \n",
      "0 NaN            USS Agassiz   \n",
      "0 NaN      USS Agawam (1863)   \n",
      "0 NaN     USS Alabama (1850)   \n",
      "0 NaN   USS Albatross (1858)   \n",
      "0 NaN   USS Albemarle (1863)   \n",
      "0 NaN       USS Alert (1861)   \n",
      "0 NaN  USS Alexandria (1862)   \n",
      "0 NaN        USS Alfred Robb   \n",
      "\n",
      "                                                              description  \\\n",
      "0                                    Cargo ship of the United States Navy   \n",
      "0                                       Collier of the United States Navy   \n",
      "0                                       Gunboat of the United States Navy   \n",
      "0                                       Gunboat of the United States Navy   \n",
      "0                                                      Side-wheel steamer   \n",
      "0                                       Tugboat of the United States Navy   \n",
      "0                                       Gunboat of the United States Navy   \n",
      "0                                                                       M   \n",
      "0         Gunboat during the American Civil War that sank off the Bahamas   \n",
      "0                                       Gunboat of the United States Navy   \n",
      "0                                       Gunboat of the United States Navy   \n",
      "0                                           United States Navy ship, 1863   \n",
      "0                                       Gunboat of the United States Navy   \n",
      "0              Double-ended, side-wheel gunboat of the United States Navy   \n",
      "0                                       Gunboat of the United States Navy   \n",
      "0                                       Gunboat of the United States Navy   \n",
      "0  Screw steamer captured by the Union Navy during the American Civil War   \n",
      "0                                       Gunboat of the United States Navy   \n",
      "0                                       Gunboat of the United States Navy   \n",
      "0                                       Gunboat of the United States Navy   \n",
      "\n",
      "                                                                                                                                                                                      propulsion  \n",
      "0                                                                                                                                                                                             []  \n",
      "0                                                                                                                                                                                     [Schooner]  \n",
      "0                                                                                                                                                                                             []  \n",
      "0                                                                                                                                                                                 [Steam engine]  \n",
      "0                                                                                                                                               [\\n, Steam engine, \\n, side-wheel propelled, \\n]  \n",
      "0                                                                                                                                                                                 [Steam engine]  \n",
      "0                                                                                                                                               [\\n, steam engine, \\n, side wheel-propelled, \\n]  \n",
      "0                                                                                                                                               [\\n, steam engine, \\n, side wheel-propelled, \\n]  \n",
      "0  [\\n, 2 × 42 in (110 cm) cylinder, 30 in (76 cm) stroke horizontal back-acting , steam engines, \\n, 2 × Martin's patent boilers;, [1], \\n, 1 × 14 ft 3 in (4.34 m) screw , propeller, [1], \\n]  \n",
      "0                                                                                                                                                                                     [Schooner]  \n",
      "0                                                                                                                                               [\\n, steam engine, \\n, side-wheel propelled, \\n]  \n",
      "0                                                                                                                                                                [vibrating-lever steam engines]  \n",
      "0                                                                                                                                                                                             []  \n",
      "0                                                                                                                                               [\\n, Steam engine, \\n, side wheel-propelled, \\n]  \n",
      "0                                                                                                                                                                                             []  \n",
      "0                                                                                                                                                                                 [steam engine]  \n",
      "0                                                                                                                                                                                     [schooner]  \n",
      "0                                                                                                                                                    [\\n, Steam engine, \\n, screw-propelled, \\n]  \n",
      "0                                                                                                                                               [\\n, steam engine, \\n, side wheel-propelled, \\n]  \n",
      "0                                                                                                                                              [\\n, steam engine, \\n, stern wheel-propelled, \\n]  \n"
     ]
    },
    {
     "data": {
      "text/html": [
       "<div>\n",
       "<style scoped>\n",
       "    .dataframe tbody tr th:only-of-type {\n",
       "        vertical-align: middle;\n",
       "    }\n",
       "\n",
       "    .dataframe tbody tr th {\n",
       "        vertical-align: top;\n",
       "    }\n",
       "\n",
       "    .dataframe thead th {\n",
       "        text-align: right;\n",
       "    }\n",
       "</style>\n",
       "<table border=\"1\" class=\"dataframe\">\n",
       "  <thead>\n",
       "    <tr style=\"text-align: right;\">\n",
       "      <th></th>\n",
       "      <th>ix</th>\n",
       "    </tr>\n",
       "  </thead>\n",
       "  <tbody>\n",
       "    <tr>\n",
       "      <th>count</th>\n",
       "      <td>0.0</td>\n",
       "    </tr>\n",
       "    <tr>\n",
       "      <th>mean</th>\n",
       "      <td>NaN</td>\n",
       "    </tr>\n",
       "    <tr>\n",
       "      <th>std</th>\n",
       "      <td>NaN</td>\n",
       "    </tr>\n",
       "    <tr>\n",
       "      <th>min</th>\n",
       "      <td>NaN</td>\n",
       "    </tr>\n",
       "    <tr>\n",
       "      <th>25%</th>\n",
       "      <td>NaN</td>\n",
       "    </tr>\n",
       "    <tr>\n",
       "      <th>50%</th>\n",
       "      <td>NaN</td>\n",
       "    </tr>\n",
       "    <tr>\n",
       "      <th>75%</th>\n",
       "      <td>NaN</td>\n",
       "    </tr>\n",
       "    <tr>\n",
       "      <th>max</th>\n",
       "      <td>NaN</td>\n",
       "    </tr>\n",
       "  </tbody>\n",
       "</table>\n",
       "</div>"
      ],
      "text/plain": [
       "        ix\n",
       "count  0.0\n",
       "mean   NaN\n",
       "std    NaN\n",
       "min    NaN\n",
       "25%    NaN\n",
       "50%    NaN\n",
       "75%    NaN\n",
       "max    NaN"
      ]
     },
     "execution_count": 56,
     "metadata": {},
     "output_type": "execute_result"
    }
   ],
   "source": [
    "print(temp.head(20))\n",
    "temp.describe()"
   ]
  },
  {
   "cell_type": "code",
   "execution_count": 64,
   "id": "6af06354",
   "metadata": {},
   "outputs": [
    {
     "data": {
      "text/html": [
       "<div>\n",
       "<style scoped>\n",
       "    .dataframe tbody tr th:only-of-type {\n",
       "        vertical-align: middle;\n",
       "    }\n",
       "\n",
       "    .dataframe tbody tr th {\n",
       "        vertical-align: top;\n",
       "    }\n",
       "\n",
       "    .dataframe thead th {\n",
       "        text-align: right;\n",
       "    }\n",
       "</style>\n",
       "<table border=\"1\" class=\"dataframe\">\n",
       "  <thead>\n",
       "    <tr style=\"text-align: right;\">\n",
       "      <th></th>\n",
       "      <th>ix</th>\n",
       "      <th>name</th>\n",
       "      <th>description</th>\n",
       "      <th>propulsion</th>\n",
       "    </tr>\n",
       "  </thead>\n",
       "  <tbody>\n",
       "    <tr>\n",
       "      <th>0</th>\n",
       "      <td>NaN</td>\n",
       "      <td>USS Young America</td>\n",
       "      <td>Tender of the United States Navy</td>\n",
       "      <td>steam engine ,   screw propelled</td>\n",
       "    </tr>\n",
       "    <tr>\n",
       "      <th>0</th>\n",
       "      <td>NaN</td>\n",
       "      <td>USS Young Rover</td>\n",
       "      <td>Gunboat of the United States Navy</td>\n",
       "      <td>sail   steam engine</td>\n",
       "    </tr>\n",
       "    <tr>\n",
       "      <th>0</th>\n",
       "      <td>NaN</td>\n",
       "      <td>USS Yucca (1864)</td>\n",
       "      <td>Gunboat of the United States Navy</td>\n",
       "      <td>steam engine   screw-propelled</td>\n",
       "    </tr>\n",
       "    <tr>\n",
       "      <th>0</th>\n",
       "      <td>NaN</td>\n",
       "      <td>USS Zeta</td>\n",
       "      <td>Union Navy steam ship</td>\n",
       "      <td>steam engine   screw-propelled</td>\n",
       "    </tr>\n",
       "    <tr>\n",
       "      <th>0</th>\n",
       "      <td>NaN</td>\n",
       "      <td>USS Zouave</td>\n",
       "      <td>Tender of the United States Navy</td>\n",
       "      <td>steam engine ,   screw propelled</td>\n",
       "    </tr>\n",
       "  </tbody>\n",
       "</table>\n",
       "</div>"
      ],
      "text/plain": [
       "   ix               name                        description  \\\n",
       "0 NaN  USS Young America   Tender of the United States Navy   \n",
       "0 NaN    USS Young Rover  Gunboat of the United States Navy   \n",
       "0 NaN   USS Yucca (1864)  Gunboat of the United States Navy   \n",
       "0 NaN           USS Zeta              Union Navy steam ship   \n",
       "0 NaN         USS Zouave   Tender of the United States Navy   \n",
       "\n",
       "                             propulsion  \n",
       "0    steam engine ,   screw propelled    \n",
       "0                 sail   steam engine    \n",
       "0      steam engine   screw-propelled    \n",
       "0      steam engine   screw-propelled    \n",
       "0    steam engine ,   screw propelled    "
      ]
     },
     "execution_count": 64,
     "metadata": {},
     "output_type": "execute_result"
    }
   ],
   "source": [
    "zzz = temp\n",
    "zzz.propulsion=(\n",
    "                temp.propulsion\n",
    "                .str.join(\" \")\n",
    "                .str.replace(\"\\n\",\" \")\n",
    "               )\n",
    "zzz.tail()"
   ]
  },
  {
   "cell_type": "code",
   "execution_count": 38,
   "id": "1b0900ff",
   "metadata": {},
   "outputs": [],
   "source": [
    "temp.to_csv(\"propulsion3.csv\")"
   ]
  },
  {
   "cell_type": "code",
   "execution_count": null,
   "id": "525c0274",
   "metadata": {},
   "outputs": [],
   "source": []
  }
 ],
 "metadata": {
  "kernelspec": {
   "display_name": "Python 3 (ipykernel)",
   "language": "python",
   "name": "python3"
  },
  "language_info": {
   "codemirror_mode": {
    "name": "ipython",
    "version": 3
   },
   "file_extension": ".py",
   "mimetype": "text/x-python",
   "name": "python",
   "nbconvert_exporter": "python",
   "pygments_lexer": "ipython3",
   "version": "3.9.7"
  },
  "toc": {
   "base_numbering": 1,
   "nav_menu": {},
   "number_sections": true,
   "sideBar": true,
   "skip_h1_title": false,
   "title_cell": "Table of Contents",
   "title_sidebar": "Contents",
   "toc_cell": false,
   "toc_position": {},
   "toc_section_display": true,
   "toc_window_display": false
  }
 },
 "nbformat": 4,
 "nbformat_minor": 5
}
