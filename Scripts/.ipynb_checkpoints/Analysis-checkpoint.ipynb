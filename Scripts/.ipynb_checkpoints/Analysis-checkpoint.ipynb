{
 "cells": [
  {
   "cell_type": "code",
   "execution_count": 6,
   "metadata": {},
   "outputs": [],
   "source": [
    "import numpy as np\n",
    "import pandas as pd\n",
    "import matplotlib as plt\n",
    "import seaborn as sns"
   ]
  },
  {
   "cell_type": "code",
   "execution_count": 7,
   "metadata": {},
   "outputs": [],
   "source": [
    "df = pd.read_csv(\"../Data/ships.txt\",sep=\"\\t\",na_values=['None'],dtype={\"Tons\":\"float64\"})"
   ]
  },
  {
   "cell_type": "code",
   "execution_count": 8,
   "metadata": {},
   "outputs": [
    {
     "data": {
      "text/html": [
       "<div>\n",
       "<style scoped>\n",
       "    .dataframe tbody tr th:only-of-type {\n",
       "        vertical-align: middle;\n",
       "    }\n",
       "\n",
       "    .dataframe tbody tr th {\n",
       "        vertical-align: top;\n",
       "    }\n",
       "\n",
       "    .dataframe thead th {\n",
       "        text-align: right;\n",
       "    }\n",
       "</style>\n",
       "<table border=\"1\" class=\"dataframe\">\n",
       "  <thead>\n",
       "    <tr style=\"text-align: right;\">\n",
       "      <th></th>\n",
       "      <th>Name</th>\n",
       "      <th>Role</th>\n",
       "      <th>Tons</th>\n",
       "      <th>Propulsion</th>\n",
       "      <th>Type</th>\n",
       "    </tr>\n",
       "  </thead>\n",
       "  <tbody>\n",
       "    <tr>\n",
       "      <th>0</th>\n",
       "      <td>Henrietta (ship, 1861)</td>\n",
       "      <td>Blockade Operations</td>\n",
       "      <td>205.0</td>\n",
       "      <td>Sail</td>\n",
       "      <td>Schooner</td>\n",
       "    </tr>\n",
       "    <tr>\n",
       "      <th>1</th>\n",
       "      <td>USS Albermarle (1863)</td>\n",
       "      <td>Blockade Operations</td>\n",
       "      <td>200.0</td>\n",
       "      <td>Steam</td>\n",
       "      <td>Schooner</td>\n",
       "    </tr>\n",
       "    <tr>\n",
       "      <th>2</th>\n",
       "      <td>USS Ammonoosuc (1864)</td>\n",
       "      <td>Blockade Operations</td>\n",
       "      <td>9850.0</td>\n",
       "      <td>Steam</td>\n",
       "      <td>Frigate</td>\n",
       "    </tr>\n",
       "    <tr>\n",
       "      <th>3</th>\n",
       "      <td>USS Ben Morgan</td>\n",
       "      <td>Blockade Operations</td>\n",
       "      <td>407.0</td>\n",
       "      <td>Sail</td>\n",
       "      <td>Schooner</td>\n",
       "    </tr>\n",
       "    <tr>\n",
       "      <th>4</th>\n",
       "      <td>USS Brooklyn (1858)</td>\n",
       "      <td>Blockade Operations</td>\n",
       "      <td>2532.0</td>\n",
       "      <td>Steam, Sail</td>\n",
       "      <td>Sloop</td>\n",
       "    </tr>\n",
       "  </tbody>\n",
       "</table>\n",
       "</div>"
      ],
      "text/plain": [
       "                     Name                 Role    Tons   Propulsion      Type\n",
       "0  Henrietta (ship, 1861)  Blockade Operations   205.0         Sail  Schooner\n",
       "1   USS Albermarle (1863)  Blockade Operations   200.0        Steam  Schooner\n",
       "2   USS Ammonoosuc (1864)  Blockade Operations  9850.0        Steam   Frigate\n",
       "3          USS Ben Morgan  Blockade Operations   407.0         Sail  Schooner\n",
       "4     USS Brooklyn (1858)  Blockade Operations  2532.0  Steam, Sail     Sloop"
      ]
     },
     "execution_count": 8,
     "metadata": {},
     "output_type": "execute_result"
    }
   ],
   "source": [
    "df.head()"
   ]
  },
  {
   "cell_type": "code",
   "execution_count": 9,
   "metadata": {},
   "outputs": [
    {
     "name": "stdout",
     "output_type": "stream",
     "text": [
      "<class 'pandas.core.frame.DataFrame'>\n",
      "RangeIndex: 739 entries, 0 to 738\n",
      "Data columns (total 5 columns):\n",
      " #   Column      Non-Null Count  Dtype  \n",
      "---  ------      --------------  -----  \n",
      " 0   Name        739 non-null    object \n",
      " 1   Role        739 non-null    object \n",
      " 2   Tons        732 non-null    float64\n",
      " 3   Propulsion  739 non-null    object \n",
      " 4   Type        666 non-null    object \n",
      "dtypes: float64(1), object(4)\n",
      "memory usage: 29.0+ KB\n"
     ]
    }
   ],
   "source": [
    "df.info()"
   ]
  },
  {
   "cell_type": "code",
   "execution_count": 10,
   "metadata": {},
   "outputs": [
    {
     "data": {
      "text/html": [
       "<div>\n",
       "<style scoped>\n",
       "    .dataframe tbody tr th:only-of-type {\n",
       "        vertical-align: middle;\n",
       "    }\n",
       "\n",
       "    .dataframe tbody tr th {\n",
       "        vertical-align: top;\n",
       "    }\n",
       "\n",
       "    .dataframe thead th {\n",
       "        text-align: right;\n",
       "    }\n",
       "</style>\n",
       "<table border=\"1\" class=\"dataframe\">\n",
       "  <thead>\n",
       "    <tr style=\"text-align: right;\">\n",
       "      <th></th>\n",
       "      <th>Tons</th>\n",
       "    </tr>\n",
       "  </thead>\n",
       "  <tbody>\n",
       "    <tr>\n",
       "      <th>count</th>\n",
       "      <td>732.000000</td>\n",
       "    </tr>\n",
       "    <tr>\n",
       "      <th>mean</th>\n",
       "      <td>659.206421</td>\n",
       "    </tr>\n",
       "    <tr>\n",
       "      <th>std</th>\n",
       "      <td>767.838514</td>\n",
       "    </tr>\n",
       "    <tr>\n",
       "      <th>min</th>\n",
       "      <td>10.000000</td>\n",
       "    </tr>\n",
       "    <tr>\n",
       "      <th>25%</th>\n",
       "      <td>200.000000</td>\n",
       "    </tr>\n",
       "    <tr>\n",
       "      <th>50%</th>\n",
       "      <td>421.000000</td>\n",
       "    </tr>\n",
       "    <tr>\n",
       "      <th>75%</th>\n",
       "      <td>883.000000</td>\n",
       "    </tr>\n",
       "    <tr>\n",
       "      <th>max</th>\n",
       "      <td>9850.000000</td>\n",
       "    </tr>\n",
       "  </tbody>\n",
       "</table>\n",
       "</div>"
      ],
      "text/plain": [
       "              Tons\n",
       "count   732.000000\n",
       "mean    659.206421\n",
       "std     767.838514\n",
       "min      10.000000\n",
       "25%     200.000000\n",
       "50%     421.000000\n",
       "75%     883.000000\n",
       "max    9850.000000"
      ]
     },
     "execution_count": 10,
     "metadata": {},
     "output_type": "execute_result"
    }
   ],
   "source": [
    "df.describe()"
   ]
  },
  {
   "cell_type": "code",
   "execution_count": null,
   "metadata": {},
   "outputs": [],
   "source": []
  },
  {
   "cell_type": "code",
   "execution_count": 11,
   "metadata": {},
   "outputs": [
    {
     "data": {
      "text/plain": [
       "0"
      ]
     },
     "execution_count": 11,
     "metadata": {},
     "output_type": "execute_result"
    }
   ],
   "source": [
    "df['Role'].isna().sum()"
   ]
  },
  {
   "cell_type": "code",
   "execution_count": 12,
   "metadata": {},
   "outputs": [
    {
     "name": "stdout",
     "output_type": "stream",
     "text": [
      "                     Propulsion\n",
      "Role                           \n",
      "Gunboat                     435\n",
      "Transport                    96\n",
      "Blockade Operations          57\n",
      "Tug                          55\n",
      "Obstacle                     45\n",
      "Monitor                      29\n",
      "Tender                       10\n",
      "Torpedo Boat                  5\n",
      "Balloon Barge                 1\n",
      "Lighthouse Tender             1\n",
      "Minesweeper                   1\n",
      "Patrol                        1\n",
      "Pilot Boat                    1\n",
      "Reconnaissance                1\n",
      "Submarine                     1\n"
     ]
    }
   ],
   "source": [
    "pivot = pd.pivot_table(df,values='Propulsion',index='Role',aggfunc='count')\n",
    "result = pivot.sort_values(\"Propulsion\",ascending=False)\n",
    "print(result)"
   ]
  },
  {
   "cell_type": "code",
   "execution_count": 13,
   "metadata": {},
   "outputs": [
    {
     "name": "stdout",
     "output_type": "stream",
     "text": [
      "                       Name                 Role    Tons   Propulsion  \\\n",
      "0    Henrietta (ship, 1861)  Blockade Operations   205.0         Sail   \n",
      "1     USS Albermarle (1863)  Blockade Operations   200.0        Steam   \n",
      "2     USS Ammonoosuc (1864)  Blockade Operations  9850.0        Steam   \n",
      "3            USS Ben Morgan  Blockade Operations   407.0         Sail   \n",
      "4       USS Brooklyn (1858)  Blockade Operations  2532.0  Steam, Sail   \n",
      "..                      ...                  ...     ...          ...   \n",
      "734       USS Young America              Tender    173.0        Steam   \n",
      "735                USS Zeta            Transport    60.0        Steam   \n",
      "736              USS Zouave              Tender    127.0        Steam   \n",
      "737             Valparaiso              Obstacle   402.0         Sail   \n",
      "738            William Lee              Obstacle   311.0         Sail   \n",
      "\n",
      "         Type             Function  \n",
      "0    Schooner  Blockade Operations  \n",
      "1    Schooner  Blockade Operations  \n",
      "2     Frigate  Blockade Operations  \n",
      "3    Schooner  Blockade Operations  \n",
      "4       Sloop  Blockade Operations  \n",
      "..        ...                  ...  \n",
      "734    Tender              Tender   \n",
      "735   Steamer            Transport  \n",
      "736    Tender              Tender   \n",
      "737    Stoned             Obstacle  \n",
      "738    Stoned             Obstacle  \n",
      "\n",
      "[739 rows x 6 columns]\n"
     ]
    }
   ],
   "source": [
    "series=pd.value_counts(df.Role)\n",
    "mask = series.lt(2)\n",
    "df['Function']=np.where(df.Role.isin(series[mask].index),'Other',df.Role)\n",
    "print(df)"
   ]
  },
  {
   "cell_type": "code",
   "execution_count": 14,
   "metadata": {},
   "outputs": [
    {
     "name": "stdout",
     "output_type": "stream",
     "text": [
      "                     Propulsion\n",
      "Role                           \n",
      "Gunboat                     435\n",
      "Transport                    96\n",
      "Blockade Operations          57\n",
      "Tug                          55\n",
      "Obstacle                     45\n",
      "Monitor                      29\n",
      "Tender                       10\n",
      "Torpedo Boat                  5\n",
      "Balloon Barge                 1\n",
      "Lighthouse Tender             1\n",
      "Minesweeper                   1\n",
      "Patrol                        1\n",
      "Pilot Boat                    1\n",
      "Reconnaissance                1\n",
      "Submarine                     1\n"
     ]
    }
   ],
   "source": [
    "pivot = pd.pivot_table(df,index='Function')\n",
    "print(result)"
   ]
  },
  {
   "cell_type": "code",
   "execution_count": 15,
   "metadata": {},
   "outputs": [
    {
     "data": {
      "text/html": [
       "<div>\n",
       "<style scoped>\n",
       "    .dataframe tbody tr th:only-of-type {\n",
       "        vertical-align: middle;\n",
       "    }\n",
       "\n",
       "    .dataframe tbody tr th {\n",
       "        vertical-align: top;\n",
       "    }\n",
       "\n",
       "    .dataframe thead th {\n",
       "        text-align: right;\n",
       "    }\n",
       "</style>\n",
       "<table border=\"1\" class=\"dataframe\">\n",
       "  <thead>\n",
       "    <tr style=\"text-align: right;\">\n",
       "      <th></th>\n",
       "      <th>Name</th>\n",
       "      <th>Role</th>\n",
       "      <th>Tons</th>\n",
       "      <th>Propulsion</th>\n",
       "      <th>Type</th>\n",
       "      <th>Function</th>\n",
       "    </tr>\n",
       "  </thead>\n",
       "  <tbody>\n",
       "    <tr>\n",
       "      <th>604</th>\n",
       "      <td>USS George Washington Parke Custis (1861)</td>\n",
       "      <td>Balloon Barge</td>\n",
       "      <td>1726.0</td>\n",
       "      <td>Towed</td>\n",
       "      <td>barge balloon</td>\n",
       "      <td>Other</td>\n",
       "    </tr>\n",
       "  </tbody>\n",
       "</table>\n",
       "</div>"
      ],
      "text/plain": [
       "                                          Name           Role    Tons  \\\n",
       "604  USS George Washington Parke Custis (1861)  Balloon Barge  1726.0   \n",
       "\n",
       "    Propulsion            Type Function  \n",
       "604      Towed  barge balloon     Other  "
      ]
     },
     "execution_count": 15,
     "metadata": {},
     "output_type": "execute_result"
    }
   ],
   "source": [
    "df[df.Role=='Balloon Barge']"
   ]
  },
  {
   "cell_type": "code",
   "execution_count": 16,
   "metadata": {},
   "outputs": [
    {
     "name": "stdout",
     "output_type": "stream",
     "text": [
      "                       Tons\n",
      "Role                       \n",
      "Balloon Barge        1726.0\n",
      "Blockade Operations  1457.0\n",
      "Monitor              1300.0\n",
      "Torpedo Boat         1175.0\n",
      "Transport             496.5\n",
      "Gunboat               451.5\n",
      "Obstacle              320.0\n",
      "Lighthouse Tender     305.0\n",
      "Reconnaissance        300.0\n",
      "Submarine             275.0\n",
      "Pilot Boat            122.0\n",
      "Tug                   103.0\n",
      "Minesweeper            81.0\n",
      "Tender                 78.5\n",
      "Patrol                 50.0\n"
     ]
    }
   ],
   "source": [
    "pivot = pd.pivot_table(df,index='Role',values=\"Tons\",aggfunc='median')\n",
    "result = pivot.sort_values(\"Tons\",ascending=False)\n",
    "print(result)"
   ]
  },
  {
   "cell_type": "code",
   "execution_count": 17,
   "metadata": {},
   "outputs": [
    {
     "name": "stdout",
     "output_type": "stream",
     "text": [
      "482539.1\n"
     ]
    }
   ],
   "source": [
    "TotalDisplacement = df.Tons.sum()\n",
    "print(TotalDisplacement)"
   ]
  },
  {
   "cell_type": "code",
   "execution_count": 18,
   "metadata": {},
   "outputs": [
    {
     "data": {
      "text/html": [
       "<div>\n",
       "<style scoped>\n",
       "    .dataframe tbody tr th:only-of-type {\n",
       "        vertical-align: middle;\n",
       "    }\n",
       "\n",
       "    .dataframe tbody tr th {\n",
       "        vertical-align: top;\n",
       "    }\n",
       "\n",
       "    .dataframe thead th {\n",
       "        text-align: right;\n",
       "    }\n",
       "</style>\n",
       "<table border=\"1\" class=\"dataframe\">\n",
       "  <thead>\n",
       "    <tr style=\"text-align: right;\">\n",
       "      <th></th>\n",
       "      <th>Tons</th>\n",
       "    </tr>\n",
       "    <tr>\n",
       "      <th>Role</th>\n",
       "      <th></th>\n",
       "    </tr>\n",
       "  </thead>\n",
       "  <tbody>\n",
       "    <tr>\n",
       "      <th>Gunboat</th>\n",
       "      <td>249869.0</td>\n",
       "    </tr>\n",
       "    <tr>\n",
       "      <th>Blockade Operations</th>\n",
       "      <td>92982.0</td>\n",
       "    </tr>\n",
       "    <tr>\n",
       "      <th>Transport</th>\n",
       "      <td>65947.0</td>\n",
       "    </tr>\n",
       "    <tr>\n",
       "      <th>Monitor</th>\n",
       "      <td>44567.0</td>\n",
       "    </tr>\n",
       "    <tr>\n",
       "      <th>Obstacle</th>\n",
       "      <td>12897.0</td>\n",
       "    </tr>\n",
       "    <tr>\n",
       "      <th>Tug</th>\n",
       "      <td>8670.1</td>\n",
       "    </tr>\n",
       "    <tr>\n",
       "      <th>Torpedo Boat</th>\n",
       "      <td>3732.0</td>\n",
       "    </tr>\n",
       "    <tr>\n",
       "      <th>Balloon Barge</th>\n",
       "      <td>1726.0</td>\n",
       "    </tr>\n",
       "    <tr>\n",
       "      <th>Tender</th>\n",
       "      <td>1016.0</td>\n",
       "    </tr>\n",
       "    <tr>\n",
       "      <th>Lighthouse Tender</th>\n",
       "      <td>305.0</td>\n",
       "    </tr>\n",
       "    <tr>\n",
       "      <th>Reconnaissance</th>\n",
       "      <td>300.0</td>\n",
       "    </tr>\n",
       "    <tr>\n",
       "      <th>Submarine</th>\n",
       "      <td>275.0</td>\n",
       "    </tr>\n",
       "    <tr>\n",
       "      <th>Pilot Boat</th>\n",
       "      <td>122.0</td>\n",
       "    </tr>\n",
       "    <tr>\n",
       "      <th>Minesweeper</th>\n",
       "      <td>81.0</td>\n",
       "    </tr>\n",
       "    <tr>\n",
       "      <th>Patrol</th>\n",
       "      <td>50.0</td>\n",
       "    </tr>\n",
       "  </tbody>\n",
       "</table>\n",
       "</div>"
      ],
      "text/plain": [
       "                         Tons\n",
       "Role                         \n",
       "Gunboat              249869.0\n",
       "Blockade Operations   92982.0\n",
       "Transport             65947.0\n",
       "Monitor               44567.0\n",
       "Obstacle              12897.0\n",
       "Tug                    8670.1\n",
       "Torpedo Boat           3732.0\n",
       "Balloon Barge          1726.0\n",
       "Tender                 1016.0\n",
       "Lighthouse Tender       305.0\n",
       "Reconnaissance          300.0\n",
       "Submarine               275.0\n",
       "Pilot Boat              122.0\n",
       "Minesweeper              81.0\n",
       "Patrol                   50.0"
      ]
     },
     "execution_count": 18,
     "metadata": {},
     "output_type": "execute_result"
    }
   ],
   "source": [
    "(df\n",
    " .groupby(\"Role\")\n",
    " .sum()\n",
    " .sort_values(\"Tons\",ascending=False)\n",
    ")"
   ]
  },
  {
   "cell_type": "code",
   "execution_count": 19,
   "metadata": {},
   "outputs": [
    {
     "data": {
      "text/html": [
       "<style type=\"text/css\">\n",
       "</style>\n",
       "<table id=\"T_98298_\">\n",
       "  <thead>\n",
       "    <tr>\n",
       "      <th class=\"blank level0\" >&nbsp;</th>\n",
       "      <th class=\"col_heading level0 col0\" >Disp (x 1K tons)</th>\n",
       "    </tr>\n",
       "    <tr>\n",
       "      <th class=\"index_name level0\" >Function</th>\n",
       "      <th class=\"blank col0\" >&nbsp;</th>\n",
       "    </tr>\n",
       "  </thead>\n",
       "  <tbody>\n",
       "    <tr>\n",
       "      <th id=\"T_98298_level0_row0\" class=\"row_heading level0 row0\" >Tender </th>\n",
       "      <td id=\"T_98298_row0_col0\" class=\"data row0 col0\" >1.0</td>\n",
       "    </tr>\n",
       "    <tr>\n",
       "      <th id=\"T_98298_level0_row1\" class=\"row_heading level0 row1\" >Other</th>\n",
       "      <td id=\"T_98298_row1_col0\" class=\"data row1 col0\" >2.9</td>\n",
       "    </tr>\n",
       "    <tr>\n",
       "      <th id=\"T_98298_level0_row2\" class=\"row_heading level0 row2\" >Torpedo Boat </th>\n",
       "      <td id=\"T_98298_row2_col0\" class=\"data row2 col0\" >3.7</td>\n",
       "    </tr>\n",
       "    <tr>\n",
       "      <th id=\"T_98298_level0_row3\" class=\"row_heading level0 row3\" >Tug</th>\n",
       "      <td id=\"T_98298_row3_col0\" class=\"data row3 col0\" >8.7</td>\n",
       "    </tr>\n",
       "    <tr>\n",
       "      <th id=\"T_98298_level0_row4\" class=\"row_heading level0 row4\" >Obstacle</th>\n",
       "      <td id=\"T_98298_row4_col0\" class=\"data row4 col0\" >12.9</td>\n",
       "    </tr>\n",
       "    <tr>\n",
       "      <th id=\"T_98298_level0_row5\" class=\"row_heading level0 row5\" >Monitor</th>\n",
       "      <td id=\"T_98298_row5_col0\" class=\"data row5 col0\" >44.6</td>\n",
       "    </tr>\n",
       "    <tr>\n",
       "      <th id=\"T_98298_level0_row6\" class=\"row_heading level0 row6\" >Transport</th>\n",
       "      <td id=\"T_98298_row6_col0\" class=\"data row6 col0\" >65.9</td>\n",
       "    </tr>\n",
       "    <tr>\n",
       "      <th id=\"T_98298_level0_row7\" class=\"row_heading level0 row7\" >Blockade Operations</th>\n",
       "      <td id=\"T_98298_row7_col0\" class=\"data row7 col0\" >93.0</td>\n",
       "    </tr>\n",
       "    <tr>\n",
       "      <th id=\"T_98298_level0_row8\" class=\"row_heading level0 row8\" >Gunboat</th>\n",
       "      <td id=\"T_98298_row8_col0\" class=\"data row8 col0\" >249.9</td>\n",
       "    </tr>\n",
       "    <tr>\n",
       "      <th id=\"T_98298_level0_row9\" class=\"row_heading level0 row9\" >Total</th>\n",
       "      <td id=\"T_98298_row9_col0\" class=\"data row9 col0\" >482.5</td>\n",
       "    </tr>\n",
       "  </tbody>\n",
       "</table>\n"
      ],
      "text/plain": [
       "<pandas.io.formats.style.Styler at 0x1e3fc646760>"
      ]
     },
     "metadata": {},
     "output_type": "display_data"
    }
   ],
   "source": [
    "pivot = pd.pivot_table(df,index='Function',values=\"Tons\",aggfunc='sum',margins = True, margins_name='Total')\n",
    "p = pivot.sort_values(\"Tons\",ascending=True)\n",
    "p.columns = [\"Disp (x 1K tons)\"]\n",
    "display(p.style.format(formatter={('Disp (x 1K tons)'): lambda x: \"{:,.1f}\".format(x*1e-3)}))"
   ]
  },
  {
   "cell_type": "code",
   "execution_count": null,
   "metadata": {},
   "outputs": [],
   "source": []
  }
 ],
 "metadata": {
  "kernelspec": {
   "display_name": "Python 3 (ipykernel)",
   "language": "python",
   "name": "python3"
  },
  "language_info": {
   "codemirror_mode": {
    "name": "ipython",
    "version": 3
   },
   "file_extension": ".py",
   "mimetype": "text/x-python",
   "name": "python",
   "nbconvert_exporter": "python",
   "pygments_lexer": "ipython3",
   "version": "3.9.7"
  },
  "toc": {
   "base_numbering": 1,
   "nav_menu": {},
   "number_sections": true,
   "sideBar": true,
   "skip_h1_title": false,
   "title_cell": "Table of Contents",
   "title_sidebar": "Contents",
   "toc_cell": false,
   "toc_position": {},
   "toc_section_display": true,
   "toc_window_display": false
  }
 },
 "nbformat": 4,
 "nbformat_minor": 4
}
